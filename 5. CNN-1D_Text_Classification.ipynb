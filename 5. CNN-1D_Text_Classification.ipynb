{
 "cells": [
  {
   "cell_type": "markdown",
   "metadata": {},
   "source": [
    "# Experiment 5: Text (Sentiment) classification using Convolution Neural Network for 1-Dimension(Conv1D)"
   ]
  },
  {
   "cell_type": "code",
   "execution_count": 11,
   "metadata": {},
   "outputs": [],
   "source": [
    "from tensorflow.keras.preprocessing import sequence\n",
    "\n",
    "from keras.models import Sequential\n",
    "from keras.layers import Dense, Dropout, Activation, Conv1D, GlobalMaxPooling1D, Embedding\n",
    "\n",
    "from keras.datasets import imdb\n",
    "\n",
    "from keras.utils import plot_model\n",
    "from keras import optimizers\n",
    "\n",
    "import matplotlib.pyplot as plt\n",
    "\n",
    "import numpy as np"
   ]
  },
  {
   "cell_type": "code",
   "execution_count": 12,
   "metadata": {},
   "outputs": [
    {
     "name": "stdout",
     "output_type": "stream",
     "text": [
      "Loading data...\n",
      "25000 train sequences\n",
      "25000 test sequences\n"
     ]
    }
   ],
   "source": [
    "print('Loading data...')\n",
    "\n",
    "(x_train, y_train), (x_test, y_test) = imdb.load_data(num_words=10000)\n",
    "\n",
    "test_data = x_test\n",
    "\n",
    "print(len(x_train), 'train sequences')\n",
    "print(len(x_test), 'test sequences')\n",
    "\n",
    "#print(x_train[450])"
   ]
  },
  {
   "cell_type": "code",
   "execution_count": 14,
   "metadata": {},
   "outputs": [],
   "source": [
    "# x_train"
   ]
  },
  {
   "cell_type": "code",
   "execution_count": 3,
   "metadata": {},
   "outputs": [
    {
     "name": "stdout",
     "output_type": "stream",
     "text": [
      "Pad sequences (samples x time)\n",
      "x_train shape: (25000, 800)\n",
      "x_test shape: (25000, 800)\n",
      "Build model...\n"
     ]
    }
   ],
   "source": [
    "print('Pad sequences (samples x time)')\n",
    "\n",
    "x_train = sequence.pad_sequences(sequences=x_train, maxlen=800)\n",
    "x_test = sequence.pad_sequences(sequences=x_test, maxlen=800)\n",
    "\n",
    "print('x_train shape:', x_train.shape)\n",
    "print('x_test shape:', x_test.shape)\n",
    "\n",
    "print('Build model...')\n",
    "model = Sequential()"
   ]
  },
  {
   "cell_type": "code",
   "execution_count": null,
   "metadata": {},
   "outputs": [],
   "source": []
  },
  {
   "cell_type": "code",
   "execution_count": 4,
   "metadata": {},
   "outputs": [],
   "source": [
    "# Building a Conv1D Model\n",
    "model.add(Embedding(input_dim=10000,\n",
    "                    output_dim=50,\n",
    "                    input_length=800))"
   ]
  },
  {
   "cell_type": "code",
   "execution_count": 5,
   "metadata": {},
   "outputs": [],
   "source": [
    "model.add(Dropout(0.5))"
   ]
  },
  {
   "cell_type": "code",
   "execution_count": 6,
   "metadata": {},
   "outputs": [],
   "source": [
    "model.add(Conv1D(filters=250, kernel_size=3, padding='valid', activation='relu', strides=1))"
   ]
  },
  {
   "cell_type": "code",
   "execution_count": 7,
   "metadata": {},
   "outputs": [],
   "source": [
    "model.add(GlobalMaxPooling1D())"
   ]
  },
  {
   "cell_type": "code",
   "execution_count": 8,
   "metadata": {},
   "outputs": [],
   "source": [
    "model.add(Dense(250))"
   ]
  },
  {
   "cell_type": "code",
   "execution_count": null,
   "metadata": {},
   "outputs": [],
   "source": [
    "model.add(Activation('relu'))"
   ]
  },
  {
   "cell_type": "code",
   "execution_count": 9,
   "metadata": {},
   "outputs": [],
   "source": [
    "model.add(Dense(1, activation='sigmoid'))"
   ]
  },
  {
   "cell_type": "code",
   "execution_count": null,
   "metadata": {},
   "outputs": [],
   "source": [
    "model.compile(loss='binary_crossentropy', optimizer='adam', metrics=['accuracy'])"
   ]
  },
  {
   "cell_type": "code",
   "execution_count": null,
   "metadata": {},
   "outputs": [],
   "source": []
  },
  {
   "cell_type": "code",
   "execution_count": 10,
   "metadata": {},
   "outputs": [
    {
     "name": "stdout",
     "output_type": "stream",
     "text": [
      "Model: \"sequential\"\n",
      "_________________________________________________________________\n",
      " Layer (type)                Output Shape              Param #   \n",
      "=================================================================\n",
      " embedding (Embedding)       (None, 800, 50)           500000    \n",
      "                                                                 \n",
      " dropout (Dropout)           (None, 800, 50)           0         \n",
      "                                                                 \n",
      " conv1d (Conv1D)             (None, 798, 250)          37750     \n",
      "                                                                 \n",
      " global_max_pooling1d (Globa  (None, 250)              0         \n",
      " lMaxPooling1D)                                                  \n",
      "                                                                 \n",
      " dense (Dense)               (None, 250)               62750     \n",
      "                                                                 \n",
      " activation (Activation)     (None, 250)               0         \n",
      "                                                                 \n",
      " dense_1 (Dense)             (None, 1)                 251       \n",
      "                                                                 \n",
      "=================================================================\n",
      "Total params: 600,751\n",
      "Trainable params: 600,751\n",
      "Non-trainable params: 0\n",
      "_________________________________________________________________\n"
     ]
    }
   ],
   "source": [
    "model.summary()"
   ]
  },
  {
   "cell_type": "code",
   "execution_count": 17,
   "metadata": {},
   "outputs": [
    {
     "name": "stdout",
     "output_type": "stream",
     "text": [
      "Epoch 1/10\n",
      "782/782 [==============================] - 62s 79ms/step - loss: 0.4390 - accuracy: 0.7738 - val_loss: 0.2885 - val_accuracy: 0.8782\n",
      "Epoch 2/10\n",
      "782/782 [==============================] - 63s 80ms/step - loss: 0.2594 - accuracy: 0.8954 - val_loss: 0.2598 - val_accuracy: 0.8910\n",
      "Epoch 3/10\n",
      "782/782 [==============================] - 62s 80ms/step - loss: 0.2087 - accuracy: 0.9170 - val_loss: 0.2704 - val_accuracy: 0.8880\n",
      "Epoch 4/10\n",
      "782/782 [==============================] - 62s 79ms/step - loss: 0.1720 - accuracy: 0.9330 - val_loss: 0.2693 - val_accuracy: 0.8898\n",
      "Epoch 5/10\n",
      "782/782 [==============================] - 63s 81ms/step - loss: 0.1453 - accuracy: 0.9449 - val_loss: 0.2842 - val_accuracy: 0.8865\n",
      "Epoch 6/10\n",
      "782/782 [==============================] - 62s 80ms/step - loss: 0.1259 - accuracy: 0.9526 - val_loss: 0.2799 - val_accuracy: 0.8918\n",
      "Epoch 7/10\n",
      "782/782 [==============================] - 65s 83ms/step - loss: 0.1116 - accuracy: 0.9575 - val_loss: 0.3395 - val_accuracy: 0.8783\n",
      "Epoch 8/10\n",
      "782/782 [==============================] - 62s 80ms/step - loss: 0.1012 - accuracy: 0.9622 - val_loss: 0.3373 - val_accuracy: 0.8861\n",
      "Epoch 9/10\n",
      "782/782 [==============================] - 61s 78ms/step - loss: 0.0855 - accuracy: 0.9675 - val_loss: 0.3218 - val_accuracy: 0.8885\n",
      "Epoch 10/10\n",
      "782/782 [==============================] - 62s 79ms/step - loss: 0.0795 - accuracy: 0.9702 - val_loss: 0.3372 - val_accuracy: 0.8884\n"
     ]
    }
   ],
   "source": [
    "history = model.fit(x_train, y_train,\n",
    "                    batch_size=32,\n",
    "                    epochs=10,       # 5 epochs are enough to train\n",
    "                    validation_data=(x_test, y_test))"
   ]
  },
  {
   "cell_type": "code",
   "execution_count": 24,
   "metadata": {},
   "outputs": [
    {
     "name": "stdout",
     "output_type": "stream",
     "text": [
      "782/782 [==============================] - 11s 14ms/step - loss: 0.3372 - accuracy: 0.8884\n",
      "Accuracy on test set: [0.33724042773246765, 0.8884000182151794]\n",
      "Test loss: 0.33724042773246765\n",
      "Test accuracy: 0.8884000182151794\n"
     ]
    }
   ],
   "source": [
    "#Evaluation\n",
    "results = model.evaluate(x_test, y_test)\n",
    "print (\"Accuracy on test set:\" , results)\n",
    "print('Test loss:', results[0])\n",
    "print('Test accuracy:', results[1])"
   ]
  },
  {
   "cell_type": "code",
   "execution_count": 31,
   "metadata": {},
   "outputs": [
    {
     "name": "stdout",
     "output_type": "stream",
     "text": [
      "782/782 [==============================] - 10s 13ms/step\n"
     ]
    }
   ],
   "source": [
    "#Prediction\n",
    "y_pred = model.predict(x_test)"
   ]
  },
  {
   "cell_type": "code",
   "execution_count": 33,
   "metadata": {},
   "outputs": [
    {
     "name": "stdout",
     "output_type": "stream",
     "text": [
      "782/782 [==============================] - 11s 14ms/step - loss: 0.3372 - accuracy: 0.8884\n"
     ]
    }
   ],
   "source": [
    "results = model.evaluate(x_test, y_test)"
   ]
  }
 ],
 "metadata": {
  "kernelspec": {
   "display_name": "Python 3 (ipykernel)",
   "language": "python",
   "name": "python3"
  },
  "language_info": {
   "codemirror_mode": {
    "name": "ipython",
    "version": 3
   },
   "file_extension": ".py",
   "mimetype": "text/x-python",
   "name": "python",
   "nbconvert_exporter": "python",
   "pygments_lexer": "ipython3",
   "version": "3.10.7"
  }
 },
 "nbformat": 4,
 "nbformat_minor": 2
}
