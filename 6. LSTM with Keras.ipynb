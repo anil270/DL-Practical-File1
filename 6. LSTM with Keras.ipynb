{
 "cells": [
  {
   "cell_type": "markdown",
   "id": "a91c43a0",
   "metadata": {},
   "source": [
    "# Experiment 6:  LSTM with Keras"
   ]
  },
  {
   "cell_type": "code",
   "execution_count": 1,
   "id": "fcb142a5",
   "metadata": {},
   "outputs": [],
   "source": [
    "import tensorflow as tf\n",
    "from tensorflow import keras\n",
    "from tensorflow.keras import layers"
   ]
  },
  {
   "cell_type": "code",
   "execution_count": 2,
   "id": "d5a97734",
   "metadata": {},
   "outputs": [],
   "source": [
    "mnist = keras.datasets.mnist\n",
    "\n",
    "(x_train, y_train), (x_test, y_test) = mnist.load_data()\n",
    "\n",
    "x_train, x_test = x_train/255.0, x_test/255.0\n",
    "\n",
    "x_validate, y_validate = x_test[:-10], y_test[:-10]\n",
    "\n",
    "x_test, y_test = x_test[-10:], y_test[-10:]"
   ]
  },
  {
   "cell_type": "code",
   "execution_count": 3,
   "id": "891d9fd8",
   "metadata": {},
   "outputs": [
    {
     "name": "stdout",
     "output_type": "stream",
     "text": [
      "Model: \"sequential\"\n",
      "_________________________________________________________________\n",
      " Layer (type)                Output Shape              Param #   \n",
      "=================================================================\n",
      " lstm (LSTM)                 (None, 64)                23808     \n",
      "                                                                 \n",
      " batch_normalization (BatchN  (None, 64)               256       \n",
      " ormalization)                                                   \n",
      "                                                                 \n",
      " dense (Dense)               (None, 10)                650       \n",
      "                                                                 \n",
      "=================================================================\n",
      "Total params: 24,714\n",
      "Trainable params: 24,586\n",
      "Non-trainable params: 128\n",
      "_________________________________________________________________\n",
      "None\n"
     ]
    }
   ],
   "source": [
    "model = keras.Sequential()\n",
    "\n",
    "model.add(layers.LSTM(64, input_shape=(None, 28)))\n",
    "model.add(layers.BatchNormalization())\n",
    "model.add(layers.Dense(10))\n",
    "\n",
    "print(model.summary())"
   ]
  },
  {
   "cell_type": "code",
   "execution_count": 4,
   "id": "ea2bf274",
   "metadata": {},
   "outputs": [],
   "source": [
    "model.compile( loss=keras.losses.SparseCategoricalCrossentropy(from_logits=True), optimizer=\"sgd\", metrics=[\"accuracy\"])"
   ]
  },
  {
   "cell_type": "code",
   "execution_count": 5,
   "id": "81db0524",
   "metadata": {},
   "outputs": [
    {
     "name": "stdout",
     "output_type": "stream",
     "text": [
      "Epoch 1/7\n",
      "938/938 [==============================] - 26s 25ms/step - loss: 0.9812 - accuracy: 0.6864 - val_loss: 0.5456 - val_accuracy: 0.8230\n",
      "Epoch 2/7\n",
      "938/938 [==============================] - 21s 23ms/step - loss: 0.3917 - accuracy: 0.8804 - val_loss: 0.3065 - val_accuracy: 0.8985\n",
      "Epoch 3/7\n",
      "938/938 [==============================] - 19s 20ms/step - loss: 0.2496 - accuracy: 0.9244 - val_loss: 0.2626 - val_accuracy: 0.9100\n",
      "Epoch 4/7\n",
      "938/938 [==============================] - 20s 21ms/step - loss: 0.1951 - accuracy: 0.9416 - val_loss: 0.4208 - val_accuracy: 0.8570\n",
      "Epoch 5/7\n",
      "938/938 [==============================] - 20s 21ms/step - loss: 0.1649 - accuracy: 0.9502 - val_loss: 0.1356 - val_accuracy: 0.9582\n",
      "Epoch 6/7\n",
      "938/938 [==============================] - 20s 21ms/step - loss: 0.1445 - accuracy: 0.9563 - val_loss: 0.1919 - val_accuracy: 0.9367\n",
      "Epoch 7/7\n",
      "938/938 [==============================] - 19s 21ms/step - loss: 0.1296 - accuracy: 0.9618 - val_loss: 0.2364 - val_accuracy: 0.9224\n"
     ]
    },
    {
     "data": {
      "text/plain": [
       "<keras.callbacks.History at 0x2b58131d9c0>"
      ]
     },
     "execution_count": 5,
     "metadata": {},
     "output_type": "execute_result"
    }
   ],
   "source": [
    "model.fit( x_train, y_train, validation_data=(x_validate, y_validate), batch_size=64, epochs=7)"
   ]
  },
  {
   "cell_type": "code",
   "execution_count": 6,
   "id": "11b02815",
   "metadata": {},
   "outputs": [
    {
     "name": "stdout",
     "output_type": "stream",
     "text": [
      "1/1 [==============================] - 0s 364ms/step\n",
      "[7] 7\n",
      "1/1 [==============================] - 0s 21ms/step\n",
      "[8] 8\n",
      "1/1 [==============================] - 0s 20ms/step\n",
      "[9] 9\n",
      "1/1 [==============================] - 0s 19ms/step\n",
      "[0] 0\n",
      "1/1 [==============================] - 0s 18ms/step\n",
      "[1] 1\n",
      "1/1 [==============================] - 0s 18ms/step\n",
      "[2] 2\n",
      "1/1 [==============================] - 0s 19ms/step\n",
      "[3] 3\n",
      "1/1 [==============================] - 0s 20ms/step\n",
      "[4] 4\n",
      "1/1 [==============================] - 0s 17ms/step\n",
      "[8] 5\n",
      "1/1 [==============================] - 0s 19ms/step\n",
      "[6] 6\n"
     ]
    }
   ],
   "source": [
    "for i in range(10):\n",
    "    result = tf.argmax(model.predict(tf.expand_dims(x_test[i], 0)), axis=1)\n",
    "    print(result.numpy(), y_test[i])"
   ]
  },
  {
   "cell_type": "code",
   "execution_count": 7,
   "id": "47f076e0",
   "metadata": {},
   "outputs": [
    {
     "name": "stdout",
     "output_type": "stream",
     "text": [
      "1/1 [==============================] - 0s 25ms/step - loss: 0.4275 - accuracy: 0.9000\n"
     ]
    },
    {
     "data": {
      "text/plain": [
       "[0.42749080061912537, 0.8999999761581421]"
      ]
     },
     "execution_count": 7,
     "metadata": {},
     "output_type": "execute_result"
    }
   ],
   "source": [
    "model.evaluate(x_test, y_test)"
   ]
  }
 ],
 "metadata": {
  "kernelspec": {
   "display_name": "Python 3 (ipykernel)",
   "language": "python",
   "name": "python3"
  },
  "language_info": {
   "codemirror_mode": {
    "name": "ipython",
    "version": 3
   },
   "file_extension": ".py",
   "mimetype": "text/x-python",
   "name": "python",
   "nbconvert_exporter": "python",
   "pygments_lexer": "ipython3",
   "version": "3.10.7"
  }
 },
 "nbformat": 4,
 "nbformat_minor": 5
}
